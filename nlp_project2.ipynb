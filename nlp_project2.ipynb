{
  "nbformat": 4,
  "nbformat_minor": 0,
  "metadata": {
    "colab": {
      "provenance": [],
      "gpuType": "T4"
    },
    "kernelspec": {
      "name": "python3",
      "display_name": "Python 3"
    },
    "language_info": {
      "name": "python"
    },
    "accelerator": "GPU"
  },
  "cells": [
    {
      "cell_type": "code",
      "execution_count": 1,
      "metadata": {
        "colab": {
          "base_uri": "https://localhost:8080/"
        },
        "id": "jdm2L4vMPEjv",
        "outputId": "967f7764-8884-4ca6-fafe-b9c4fb1d0dbe"
      },
      "outputs": [
        {
          "output_type": "stream",
          "name": "stdout",
          "text": [
            "Using Colab cache for faster access to the 'urdu-dataset-20000' dataset.\n",
            "Path to dataset files: /kaggle/input/urdu-dataset-20000\n"
          ]
        }
      ],
      "source": [
        "import kagglehub\n",
        "\n",
        "# Download latest version\n",
        "path = kagglehub.dataset_download(\"muhammadahmedansari/urdu-dataset-20000\")\n",
        "\n",
        "print(\"Path to dataset files:\", path)"
      ]
    },
    {
      "cell_type": "code",
      "source": [
        "\n",
        "# ============================================================================\n",
        "# CELL 2: Explore Dataset Structure\n",
        "# ============================================================================\n",
        "import pandas as pd\n",
        "import os\n",
        "\n",
        "# List all files in the downloaded path\n",
        "print(\"Files in dataset directory:\")\n",
        "for file in os.listdir(path):\n",
        "    print(f\"  - {file}\")\n",
        "\n",
        "# Find and load TSV files\n",
        "tsv_files = [f for f in os.listdir(path) if f.endswith('.tsv')]\n",
        "print(f\"\\nFound {len(tsv_files)} TSV file(s): {tsv_files}\")\n",
        "\n",
        "# Load the first TSV file\n",
        "if tsv_files:\n",
        "    df = pd.read_csv(os.path.join(path, tsv_files[0]), sep='\\t')\n",
        "\n",
        "    print(f\"\\n{'='*70}\")\n",
        "    print(\"DATASET OVERVIEW\")\n",
        "    print(f\"{'='*70}\")\n",
        "    print(f\"Shape: {df.shape[0]} rows × {df.shape[1]} columns\")\n",
        "    print(f\"\\nColumn names:\")\n",
        "    for i, col in enumerate(df.columns):\n",
        "        print(f\"  {i}: {col}\")\n",
        "\n",
        "    print(f\"\\n{'='*70}\")\n",
        "    print(\"FIRST 5 ROWS\")\n",
        "    print(f\"{'='*70}\")\n",
        "    print(df.head())\n",
        "\n",
        "    print(f\"\\n{'='*70}\")\n",
        "    print(\"DATA TYPES\")\n",
        "    print(f\"{'='*70}\")\n",
        "    print(df.dtypes)\n",
        "\n",
        "    print(f\"\\n{'='*70}\")\n",
        "    print(\"MISSING VALUES\")\n",
        "    print(f\"{'='*70}\")\n",
        "    print(df.isnull().sum())\n",
        "\n",
        "    print(f\"\\n{'='*70}\")\n",
        "    print(\"SAMPLE DATA (Random 3 rows)\")\n",
        "    print(f\"{'='*70}\")\n",
        "    print(df.sample(3))\n",
        "\n",
        "    print(f\"\\n{'='*70}\")\n",
        "    print(\"BASIC STATISTICS\")\n",
        "    print(f\"{'='*70}\")\n",
        "    if df.select_dtypes(include=['object']).shape[1] > 0:\n",
        "        text_col = df.select_dtypes(include=['object']).columns[0]\n",
        "        print(f\"\\nText column: '{text_col}'\")\n",
        "        print(f\"Sample text: {df[text_col].iloc[0]}\")\n",
        "        print(f\"\\nText lengths (characters):\")\n",
        "        text_lengths = df[text_col].astype(str).str.len()\n",
        "        print(f\"  Min: {text_lengths.min()}\")\n",
        "        print(f\"  Max: {text_lengths.max()}\")\n",
        "        print(f\"  Mean: {text_lengths.mean():.2f}\")\n",
        "        print(f\"  Median: {text_lengths.median():.2f}\")\n",
        "else:\n",
        "    print(\"No TSV files found!\")\n",
        "\n"
      ],
      "metadata": {
        "colab": {
          "base_uri": "https://localhost:8080/"
        },
        "id": "rV4sRWs5RrBI",
        "outputId": "cc90f586-6c93-46e4-cd2c-c8f633634ed8"
      },
      "execution_count": 2,
      "outputs": [
        {
          "output_type": "stream",
          "name": "stdout",
          "text": [
            "Files in dataset directory:\n",
            "  - final_main_dataset.tsv\n",
            "  - model_checkpoint_v2.h5\n",
            "  - char_to_num_vocab.pkl\n",
            "  - limited_wav_files\n",
            "\n",
            "Found 1 TSV file(s): ['final_main_dataset.tsv']\n",
            "\n",
            "======================================================================\n",
            "DATASET OVERVIEW\n",
            "======================================================================\n",
            "Shape: 20000 rows × 11 columns\n",
            "\n",
            "Column names:\n",
            "  0: client_id\n",
            "  1: path\n",
            "  2: sentence\n",
            "  3: up_votes\n",
            "  4: down_votes\n",
            "  5: age\n",
            "  6: gender\n",
            "  7: accents\n",
            "  8: variant\n",
            "  9: locale\n",
            "  10: segment\n",
            "\n",
            "======================================================================\n",
            "FIRST 5 ROWS\n",
            "======================================================================\n",
            "                                           client_id  \\\n",
            "0  e53f84d151d6cc6d45a57decde08a99efe47d7751a4ca6...   \n",
            "1  e53f84d151d6cc6d45a57decde08a99efe47d7751a4ca6...   \n",
            "2  e53f84d151d6cc6d45a57decde08a99efe47d7751a4ca6...   \n",
            "3  e53f84d151d6cc6d45a57decde08a99efe47d7751a4ca6...   \n",
            "4  e53f84d151d6cc6d45a57decde08a99efe47d7751a4ca6...   \n",
            "\n",
            "                           path  \\\n",
            "0  common_voice_ur_31771683.mp3   \n",
            "1  common_voice_ur_31771684.mp3   \n",
            "2  common_voice_ur_31771685.mp3   \n",
            "3  common_voice_ur_31771730.mp3   \n",
            "4  common_voice_ur_31771732.mp3   \n",
            "\n",
            "                                            sentence  up_votes  down_votes  \\\n",
            "0                 کبھی کبھار ہی خیالی پلاو بناتا ہوں         2           0   \n",
            "1                  اور پھر ممکن ہے کہ پاکستان بھی ہو         2           1   \n",
            "2                      یہ فیصلہ بھی گزشتہ دو سال میں         2           0   \n",
            "3                     ان کے بلے بازوں کے سامنے ہو گا         3           0   \n",
            "4  آبی جانور میں بطخ بگلا اور دُوسْرا آبی پرندہ ش...         3           0   \n",
            "\n",
            "        age gender accents  variant locale  segment  \n",
            "0  twenties   male     NaN      NaN     ur      NaN  \n",
            "1  twenties   male     NaN      NaN     ur      NaN  \n",
            "2  twenties   male     NaN      NaN     ur      NaN  \n",
            "3  twenties   male     NaN      NaN     ur      NaN  \n",
            "4  twenties   male     NaN      NaN     ur      NaN  \n",
            "\n",
            "======================================================================\n",
            "DATA TYPES\n",
            "======================================================================\n",
            "client_id      object\n",
            "path           object\n",
            "sentence       object\n",
            "up_votes        int64\n",
            "down_votes      int64\n",
            "age            object\n",
            "gender         object\n",
            "accents        object\n",
            "variant       float64\n",
            "locale         object\n",
            "segment       float64\n",
            "dtype: object\n",
            "\n",
            "======================================================================\n",
            "MISSING VALUES\n",
            "======================================================================\n",
            "client_id         0\n",
            "path              0\n",
            "sentence          0\n",
            "up_votes          0\n",
            "down_votes        0\n",
            "age            3802\n",
            "gender         3802\n",
            "accents       17467\n",
            "variant       20000\n",
            "locale            0\n",
            "segment       20000\n",
            "dtype: int64\n",
            "\n",
            "======================================================================\n",
            "SAMPLE DATA (Random 3 rows)\n",
            "======================================================================\n",
            "                                              client_id  \\\n",
            "8228  1ee2f08e4cf0ae002b558b50f15b0cc0212075bddfeffe...   \n",
            "9890  ddc0ae40d79e0f3980eb00cedd80e03d7a0cbf3ab78805...   \n",
            "8831  14b6a20f940d7402d5f56a4027a9602ec2c991847711bb...   \n",
            "\n",
            "                              path  \\\n",
            "8228  common_voice_ur_31348226.mp3   \n",
            "9890  common_voice_ur_27465630.mp3   \n",
            "8831  common_voice_ur_26654524.mp3   \n",
            "\n",
            "                                          sentence  up_votes  down_votes  \\\n",
            "8228           الہن نیاز ایک نوجوان تاریخ دان ہیں۔         2           0   \n",
            "9890              شاعری کے قلم سے کاغذ پر اتارا ہے         2           0   \n",
            "8831  ہمیں جو معیشت ملی ہم نے پہلے اسکو مستحکم کیا         2           1   \n",
            "\n",
            "           age gender accents  variant locale  segment  \n",
            "8228  twenties   male     NaN      NaN     ur      NaN  \n",
            "9890  fourties   male     NaN      NaN     ur      NaN  \n",
            "8831       NaN    NaN     NaN      NaN     ur      NaN  \n",
            "\n",
            "======================================================================\n",
            "BASIC STATISTICS\n",
            "======================================================================\n",
            "\n",
            "Text column: 'client_id'\n",
            "Sample text: e53f84d151d6cc6d45a57decde08a99efe47d7751a4ca60e58fb87ea68a35d53dcae445c65d5e73e0449a0b1cf2b4d09f32874877e8786664aa50f1f2ec2b932\n",
            "\n",
            "Text lengths (characters):\n",
            "  Min: 128\n",
            "  Max: 128\n",
            "  Mean: 128.00\n",
            "  Median: 128.00\n"
          ]
        }
      ]
    },
    {
      "cell_type": "code",
      "source": [
        "# ============================================================================\n",
        "# CELL 3: Import Required Libraries\n",
        "# ============================================================================\n",
        "import torch\n",
        "import torch.nn as nn\n",
        "import torch.optim as optim\n",
        "from torch.utils.data import Dataset, DataLoader\n",
        "import pandas as pd\n",
        "import numpy as np\n",
        "import re\n",
        "import os\n",
        "from collections import Counter\n",
        "from sklearn.model_selection import train_test_split\n",
        "import math\n",
        "from tqdm import tqdm\n",
        "import warnings\n",
        "warnings.filterwarnings('ignore')\n",
        "\n",
        "# Set random seeds for reproducibility\n",
        "torch.manual_seed(42)\n",
        "np.random.seed(42)\n",
        "\n",
        "device = torch.device('cuda' if torch.cuda.is_available() else 'cpu')\n",
        "print(f\"Using device: {device}\")"
      ],
      "metadata": {
        "colab": {
          "base_uri": "https://localhost:8080/"
        },
        "id": "Tvw9oA7OSIH7",
        "outputId": "1ec55fe4-effb-4444-8f47-3b911f848be6"
      },
      "execution_count": 3,
      "outputs": [
        {
          "output_type": "stream",
          "name": "stdout",
          "text": [
            "Using device: cuda\n"
          ]
        }
      ]
    },
    {
      "cell_type": "code",
      "source": [
        "# ============================================================================\n",
        "# CELL 4: Urdu Text Preprocessing Functions\n",
        "# ============================================================================\n",
        "import unicodedata\n",
        "\n",
        "def normalize_urdu_text(text):\n",
        "    \"\"\"Normalize Urdu text: remove diacritics, standardize Alef and Yeh\"\"\"\n",
        "    if not isinstance(text, str):\n",
        "        return \"\"\n",
        "\n",
        "    # Remove diacritics\n",
        "    text = ''.join(char for char in text if unicodedata.category(char) != 'Mn')\n",
        "\n",
        "    # Standardize Alef forms\n",
        "    alef_forms = ['آ', 'أ', 'إ', 'ا']\n",
        "    for alef in alef_forms:\n",
        "        text = text.replace(alef, 'ا')\n",
        "\n",
        "    # Standardize Yeh forms\n",
        "    yeh_forms = ['ی', 'ي', 'ے']\n",
        "    for yeh in yeh_forms:\n",
        "        text = text.replace(yeh, 'ی')\n",
        "\n",
        "    # Remove extra whitespaces\n",
        "    text = re.sub(r'\\s+', ' ', text).strip()\n",
        "\n",
        "    return text\n",
        "\n",
        "def tokenize_urdu(text):\n",
        "    \"\"\"Simple word-level tokenization for Urdu\"\"\"\n",
        "    text = normalize_urdu_text(text)\n",
        "    tokens = re.findall(r'\\S+', text)\n",
        "    return tokens\n",
        "\n",
        "# Test the functions\n",
        "print(\"Testing preprocessing functions:\")\n",
        "test_text = \"یہ ایک ٹیسٹ جملہ ہے۔\"\n",
        "print(f\"Original: {test_text}\")\n",
        "print(f\"Normalized: {normalize_urdu_text(test_text)}\")\n",
        "print(f\"Tokens: {tokenize_urdu(test_text)}\")\n"
      ],
      "metadata": {
        "colab": {
          "base_uri": "https://localhost:8080/"
        },
        "id": "FUhtG3UcSLnG",
        "outputId": "e12cdb06-a294-435d-b0a2-435220ca86d7"
      },
      "execution_count": 4,
      "outputs": [
        {
          "output_type": "stream",
          "name": "stdout",
          "text": [
            "Testing preprocessing functions:\n",
            "Original: یہ ایک ٹیسٹ جملہ ہے۔\n",
            "Normalized: یہ ایک ٹیسٹ جملہ ہی۔\n",
            "Tokens: ['یہ', 'ایک', 'ٹیسٹ', 'جملہ', 'ہی۔']\n"
          ]
        }
      ]
    },
    {
      "cell_type": "code",
      "source": [
        "\n",
        "# ============================================================================\n",
        "# CELL 5: Load Dataset and Filter Text\n",
        "# ============================================================================\n",
        "# Load dataset (already loaded in Cell 2, but loading again for clarity)\n",
        "df = pd.read_csv(os.path.join(path, 'final_main_dataset.tsv'), sep='\\t')\n",
        "\n",
        "# Use only the 'sentence' column for text generation\n",
        "text_data = df['sentence'].dropna().tolist()\n",
        "\n",
        "print(f\"Total sentences: {len(text_data)}\")\n",
        "print(f\"\\nSample sentences:\")\n",
        "for i, sent in enumerate(text_data[:5], 1):\n",
        "    print(f\"{i}. {sent}\")\n"
      ],
      "metadata": {
        "colab": {
          "base_uri": "https://localhost:8080/"
        },
        "id": "HhzlmW7oSp9X",
        "outputId": "5de0a2d8-1608-4ce4-b97b-8bd1377ac167"
      },
      "execution_count": 5,
      "outputs": [
        {
          "output_type": "stream",
          "name": "stdout",
          "text": [
            "Total sentences: 20000\n",
            "\n",
            "Sample sentences:\n",
            "1. کبھی کبھار ہی خیالی پلاو بناتا ہوں\n",
            "2. اور پھر ممکن ہے کہ پاکستان بھی ہو\n",
            "3. یہ فیصلہ بھی گزشتہ دو سال میں\n",
            "4. ان کے بلے بازوں کے سامنے ہو گا\n",
            "5. آبی جانور میں بطخ بگلا اور دُوسْرا آبی پرندہ شامل ہونا\n"
          ]
        }
      ]
    },
    {
      "cell_type": "code",
      "source": [
        "# ============================================================================\n",
        "# CELL 6: Build Vocabulary\n",
        "# ============================================================================\n",
        "class Vocabulary:\n",
        "    def __init__(self):\n",
        "        self.word2idx = {'<PAD>': 0, '<SOS>': 1, '<EOS>': 2, '<UNK>': 3}\n",
        "        self.idx2word = {0: '<PAD>', 1: '<SOS>', 2: '<EOS>', 3: '<UNK>'}\n",
        "        self.word_count = {}\n",
        "        self.n_words = 4\n",
        "\n",
        "    def add_sentence(self, sentence):\n",
        "        for word in tokenize_urdu(sentence):\n",
        "            self.add_word(word)\n",
        "\n",
        "    def add_word(self, word):\n",
        "        if word not in self.word2idx:\n",
        "            self.word2idx[word] = self.n_words\n",
        "            self.idx2word[self.n_words] = word\n",
        "            self.word_count[word] = 1\n",
        "            self.n_words += 1\n",
        "        else:\n",
        "            self.word_count[word] += 1\n",
        "\n",
        "vocab = Vocabulary()\n",
        "print(\"Building vocabulary...\")\n",
        "for text in tqdm(text_data, desc=\"Processing sentences\"):\n",
        "    vocab.add_sentence(str(text))\n",
        "\n",
        "print(f\"\\nVocabulary size: {vocab.n_words}\")\n",
        "print(f\"\\nMost common words:\")\n",
        "common_words = sorted(vocab.word_count.items(), key=lambda x: x[1], reverse=True)[:10]\n",
        "for word, count in common_words:\n",
        "    print(f\"  {word}: {count}\")\n",
        "\n"
      ],
      "metadata": {
        "colab": {
          "base_uri": "https://localhost:8080/"
        },
        "id": "fpwQsP4TSsEE",
        "outputId": "3f9b2daf-46ab-4442-99f7-9039076ab889"
      },
      "execution_count": 6,
      "outputs": [
        {
          "output_type": "stream",
          "name": "stdout",
          "text": [
            "Building vocabulary...\n"
          ]
        },
        {
          "output_type": "stream",
          "name": "stderr",
          "text": [
            "Processing sentences: 100%|██████████| 20000/20000 [00:00<00:00, 35762.33it/s]"
          ]
        },
        {
          "output_type": "stream",
          "name": "stdout",
          "text": [
            "\n",
            "Vocabulary size: 10875\n",
            "\n",
            "Most common words:\n",
            "  کی: 8415\n",
            "  میں: 4162\n",
            "  ہی: 3471\n",
            "  کا: 3223\n",
            "  سی: 3038\n",
            "  ہی۔: 2683\n",
            "  کو: 2065\n",
            "  اور: 1894\n",
            "  اس: 1863\n",
            "  یہ: 1641\n"
          ]
        },
        {
          "output_type": "stream",
          "name": "stderr",
          "text": [
            "\n"
          ]
        }
      ]
    },
    {
      "cell_type": "code",
      "source": [
        "# ============================================================================\n",
        "# CELL 7: Dataset Split (80% Train, 10% Val, 10% Test)\n",
        "# ============================================================================\n",
        "# Create a dataframe with sentences\n",
        "sentences_df = pd.DataFrame({'sentence': text_data})\n",
        "\n",
        "# Split data\n",
        "train_data, temp_data = train_test_split(sentences_df, test_size=0.2, random_state=42)\n",
        "val_data, test_data = train_test_split(temp_data, test_size=0.5, random_state=42)\n",
        "\n",
        "print(f\"Training samples: {len(train_data)}\")\n",
        "print(f\"Validation samples: {len(val_data)}\")\n",
        "print(f\"Test samples: {len(test_data)}\")\n"
      ],
      "metadata": {
        "colab": {
          "base_uri": "https://localhost:8080/"
        },
        "id": "qOr0drFRSveX",
        "outputId": "90b06ae9-c748-4cd9-c85d-c9e87a1fcbe4"
      },
      "execution_count": 7,
      "outputs": [
        {
          "output_type": "stream",
          "name": "stdout",
          "text": [
            "Training samples: 16000\n",
            "Validation samples: 2000\n",
            "Test samples: 2000\n"
          ]
        }
      ]
    },
    {
      "cell_type": "code",
      "source": [
        "# ============================================================================\n",
        "# CELL 8: PyTorch Dataset Class\n",
        "# ============================================================================\n",
        "class UrduDataset(Dataset):\n",
        "    def __init__(self, dataframe, vocab, max_len=50):\n",
        "        self.data = dataframe.reset_index(drop=True)\n",
        "        self.vocab = vocab\n",
        "        self.max_len = max_len\n",
        "\n",
        "    def __len__(self):\n",
        "        return len(self.data)\n",
        "\n",
        "    def __getitem__(self, idx):\n",
        "        text = str(self.data.iloc[idx]['sentence'])\n",
        "        tokens = tokenize_urdu(text)\n",
        "\n",
        "        # Convert to indices\n",
        "        indices = [self.vocab.word2idx.get(token, self.vocab.word2idx['<UNK>'])\n",
        "                   for token in tokens]\n",
        "\n",
        "        # Add SOS and EOS\n",
        "        indices = [self.vocab.word2idx['<SOS>']] + indices + [self.vocab.word2idx['<EOS>']]\n",
        "\n",
        "        # Pad or truncate\n",
        "        if len(indices) < self.max_len:\n",
        "            indices += [self.vocab.word2idx['<PAD>']] * (self.max_len - len(indices))\n",
        "        else:\n",
        "            indices = indices[:self.max_len]\n",
        "\n",
        "        # Input is all tokens except last, target is all tokens except first\n",
        "        return torch.tensor(indices[:-1]), torch.tensor(indices[1:])\n",
        "\n",
        "# Create datasets\n",
        "train_dataset = UrduDataset(train_data, vocab)\n",
        "val_dataset = UrduDataset(val_data, vocab)\n",
        "test_dataset = UrduDataset(test_data, vocab)\n",
        "\n",
        "print(\"Datasets created successfully!\")\n",
        "print(f\"\\nSample data point:\")\n",
        "src, tgt = train_dataset[0]\n",
        "print(f\"Input shape: {src.shape}\")\n",
        "print(f\"Target shape: {tgt.shape}\")\n"
      ],
      "metadata": {
        "colab": {
          "base_uri": "https://localhost:8080/"
        },
        "id": "8rTzZDVXS1H3",
        "outputId": "9cccc29e-93fa-4d72-81ff-077d295bcc44"
      },
      "execution_count": 8,
      "outputs": [
        {
          "output_type": "stream",
          "name": "stdout",
          "text": [
            "Datasets created successfully!\n",
            "\n",
            "Sample data point:\n",
            "Input shape: torch.Size([49])\n",
            "Target shape: torch.Size([49])\n"
          ]
        }
      ]
    },
    {
      "cell_type": "code",
      "source": [
        "# ============================================================================\n",
        "# CELL 9: Positional Encoding\n",
        "# ============================================================================\n",
        "class PositionalEncoding(nn.Module):\n",
        "    def __init__(self, d_model, max_len=5000, dropout=0.1):\n",
        "        super().__init__()\n",
        "        self.dropout = nn.Dropout(p=dropout)\n",
        "\n",
        "        pe = torch.zeros(max_len, d_model)\n",
        "        position = torch.arange(0, max_len, dtype=torch.float).unsqueeze(1)\n",
        "        div_term = torch.exp(torch.arange(0, d_model, 2).float() * (-math.log(10000.0) / d_model))\n",
        "\n",
        "        pe[:, 0::2] = torch.sin(position * div_term)\n",
        "        pe[:, 1::2] = torch.cos(position * div_term)\n",
        "        pe = pe.unsqueeze(0)\n",
        "\n",
        "        self.register_buffer('pe', pe)\n",
        "\n",
        "    def forward(self, x):\n",
        "        x = x + self.pe[:, :x.size(1), :]\n",
        "        return self.dropout(x)\n",
        "\n",
        "print(\"Positional Encoding defined!\")\n"
      ],
      "metadata": {
        "colab": {
          "base_uri": "https://localhost:8080/"
        },
        "id": "x7yZfoXoS3PQ",
        "outputId": "4f8e1966-4c32-496a-e517-314ee162e0ee"
      },
      "execution_count": 9,
      "outputs": [
        {
          "output_type": "stream",
          "name": "stdout",
          "text": [
            "Positional Encoding defined!\n"
          ]
        }
      ]
    },
    {
      "cell_type": "code",
      "source": [
        "# ============================================================================\n",
        "# CELL 10: Transformer Encoder Layer\n",
        "# ============================================================================\n",
        "class TransformerEncoderLayer(nn.Module):\n",
        "    def __init__(self, d_model, n_heads, d_ff, dropout=0.1):\n",
        "        super().__init__()\n",
        "        self.self_attn = nn.MultiheadAttention(d_model, n_heads, dropout=dropout, batch_first=True)\n",
        "        self.feed_forward = nn.Sequential(\n",
        "            nn.Linear(d_model, d_ff),\n",
        "            nn.ReLU(),\n",
        "            nn.Dropout(dropout),\n",
        "            nn.Linear(d_ff, d_model)\n",
        "        )\n",
        "        self.norm1 = nn.LayerNorm(d_model)\n",
        "        self.norm2 = nn.LayerNorm(d_model)\n",
        "        self.dropout = nn.Dropout(dropout)\n",
        "\n",
        "    def forward(self, x, src_mask=None):\n",
        "        # Self attention\n",
        "        attn_output, _ = self.self_attn(x, x, x, key_padding_mask=src_mask)\n",
        "        x = self.norm1(x + self.dropout(attn_output))\n",
        "\n",
        "        # Feed forward\n",
        "        ff_output = self.feed_forward(x)\n",
        "        x = self.norm2(x + self.dropout(ff_output))\n",
        "\n",
        "        return x\n",
        "\n",
        "print(\"Transformer Encoder Layer defined!\")\n"
      ],
      "metadata": {
        "colab": {
          "base_uri": "https://localhost:8080/"
        },
        "id": "EljUagtwS5HF",
        "outputId": "4e5f8d75-4a5a-4dd6-f8ec-2ec4952038a0"
      },
      "execution_count": 10,
      "outputs": [
        {
          "output_type": "stream",
          "name": "stdout",
          "text": [
            "Transformer Encoder Layer defined!\n"
          ]
        }
      ]
    },
    {
      "cell_type": "code",
      "source": [
        "# ============================================================================\n",
        "# CELL 11: Transformer Decoder Layer\n",
        "# ============================================================================\n",
        "class TransformerDecoderLayer(nn.Module):\n",
        "    def __init__(self, d_model, n_heads, d_ff, dropout=0.1):\n",
        "        super().__init__()\n",
        "        self.self_attn = nn.MultiheadAttention(d_model, n_heads, dropout=dropout, batch_first=True)\n",
        "        self.cross_attn = nn.MultiheadAttention(d_model, n_heads, dropout=dropout, batch_first=True)\n",
        "        self.feed_forward = nn.Sequential(\n",
        "            nn.Linear(d_model, d_ff),\n",
        "            nn.ReLU(),\n",
        "            nn.Dropout(dropout),\n",
        "            nn.Linear(d_ff, d_model)\n",
        "        )\n",
        "        self.norm1 = nn.LayerNorm(d_model)\n",
        "        self.norm2 = nn.LayerNorm(d_model)\n",
        "        self.norm3 = nn.LayerNorm(d_model)\n",
        "        self.dropout = nn.Dropout(dropout)\n",
        "\n",
        "    def forward(self, x, encoder_output, tgt_mask=None, src_mask=None):\n",
        "        # Self attention\n",
        "        attn_output, _ = self.self_attn(x, x, x, attn_mask=tgt_mask)\n",
        "        x = self.norm1(x + self.dropout(attn_output))\n",
        "\n",
        "        # Cross attention\n",
        "        attn_output, _ = self.cross_attn(x, encoder_output, encoder_output, key_padding_mask=src_mask)\n",
        "        x = self.norm2(x + self.dropout(attn_output))\n",
        "\n",
        "        # Feed forward\n",
        "        ff_output = self.feed_forward(x)\n",
        "        x = self.norm3(x + self.dropout(ff_output))\n",
        "\n",
        "        return x\n",
        "\n",
        "print(\"Transformer Decoder Layer defined!\")\n"
      ],
      "metadata": {
        "colab": {
          "base_uri": "https://localhost:8080/"
        },
        "id": "ve7PSzV-S7Od",
        "outputId": "bf2867c4-f5a2-49ab-d4da-faea22730531"
      },
      "execution_count": 11,
      "outputs": [
        {
          "output_type": "stream",
          "name": "stdout",
          "text": [
            "Transformer Decoder Layer defined!\n"
          ]
        }
      ]
    },
    {
      "cell_type": "code",
      "source": [
        "# ============================================================================\n",
        "# CELL 12: Complete Transformer Model\n",
        "# ============================================================================\n",
        "class Transformer(nn.Module):\n",
        "    def __init__(self, vocab_size, d_model=256, n_heads=2, n_encoder_layers=2,\n",
        "                 n_decoder_layers=2, d_ff=512, dropout=0.1, max_len=50):\n",
        "        super().__init__()\n",
        "\n",
        "        self.d_model = d_model\n",
        "        self.embedding = nn.Embedding(vocab_size, d_model)\n",
        "        self.pos_encoding = PositionalEncoding(d_model, max_len, dropout)\n",
        "\n",
        "        self.encoder_layers = nn.ModuleList([\n",
        "            TransformerEncoderLayer(d_model, n_heads, d_ff, dropout)\n",
        "            for _ in range(n_encoder_layers)\n",
        "        ])\n",
        "\n",
        "        self.decoder_layers = nn.ModuleList([\n",
        "            TransformerDecoderLayer(d_model, n_heads, d_ff, dropout)\n",
        "            for _ in range(n_decoder_layers)\n",
        "        ])\n",
        "\n",
        "        self.fc_out = nn.Linear(d_model, vocab_size)\n",
        "        self.dropout = nn.Dropout(dropout)\n",
        "\n",
        "    def generate_square_subsequent_mask(self, sz):\n",
        "        mask = torch.triu(torch.ones(sz, sz), diagonal=1)\n",
        "        mask = mask.masked_fill(mask == 1, float('-inf'))\n",
        "        return mask\n",
        "\n",
        "    def forward(self, src, tgt):\n",
        "        # Create masks\n",
        "        src_mask = (src == 0)  # Padding mask\n",
        "        tgt_mask = self.generate_square_subsequent_mask(tgt.size(1)).to(src.device)\n",
        "\n",
        "        # Encode\n",
        "        src_emb = self.dropout(self.pos_encoding(self.embedding(src) * math.sqrt(self.d_model)))\n",
        "        encoder_output = src_emb\n",
        "        for layer in self.encoder_layers:\n",
        "            encoder_output = layer(encoder_output, src_mask)\n",
        "\n",
        "        # Decode\n",
        "        tgt_emb = self.dropout(self.pos_encoding(self.embedding(tgt) * math.sqrt(self.d_model)))\n",
        "        decoder_output = tgt_emb\n",
        "        for layer in self.decoder_layers:\n",
        "            decoder_output = layer(decoder_output, encoder_output, tgt_mask, src_mask)\n",
        "\n",
        "        output = self.fc_out(decoder_output)\n",
        "        return output\n",
        "\n",
        "print(\"Transformer model defined successfully!\")\n",
        "\n"
      ],
      "metadata": {
        "colab": {
          "base_uri": "https://localhost:8080/"
        },
        "id": "5uRAWP5RS9mJ",
        "outputId": "5e77cb6a-20f0-490d-d788-ac6535c7ef13"
      },
      "execution_count": 12,
      "outputs": [
        {
          "output_type": "stream",
          "name": "stdout",
          "text": [
            "Transformer model defined successfully!\n"
          ]
        }
      ]
    },
    {
      "cell_type": "code",
      "source": [
        "# ============================================================================\n",
        "# CELL 13: Training Configuration\n",
        "# ============================================================================\n",
        "# Hyperparameters\n",
        "BATCH_SIZE = 32\n",
        "LEARNING_RATE = 3e-4\n",
        "NUM_EPOCHS = 20\n",
        "D_MODEL = 256\n",
        "N_HEADS = 2\n",
        "N_ENCODER_LAYERS = 2\n",
        "N_DECODER_LAYERS = 2\n",
        "DROPOUT = 0.2\n",
        "MAX_LEN = 50\n",
        "\n",
        "# Create DataLoaders\n",
        "train_loader = DataLoader(train_dataset, batch_size=BATCH_SIZE, shuffle=True)\n",
        "val_loader = DataLoader(val_dataset, batch_size=BATCH_SIZE, shuffle=False)\n",
        "\n",
        "# Initialize model\n",
        "model = Transformer(\n",
        "    vocab_size=vocab.n_words,\n",
        "    d_model=D_MODEL,\n",
        "    n_heads=N_HEADS,\n",
        "    n_encoder_layers=N_ENCODER_LAYERS,\n",
        "    n_decoder_layers=N_DECODER_LAYERS,\n",
        "    d_ff=D_MODEL * 2,\n",
        "    dropout=DROPOUT,\n",
        "    max_len=MAX_LEN\n",
        ").to(device)\n",
        "\n",
        "# Loss and optimizer\n",
        "criterion = nn.CrossEntropyLoss(ignore_index=vocab.word2idx['<PAD>'])\n",
        "optimizer = optim.Adam(model.parameters(), lr=LEARNING_RATE)\n",
        "\n",
        "print(f\"Model parameters: {sum(p.numel() for p in model.parameters()):,}\")\n",
        "print(\"Training configuration set!\")\n"
      ],
      "metadata": {
        "colab": {
          "base_uri": "https://localhost:8080/"
        },
        "id": "HRQq5kAhTAtL",
        "outputId": "89d35739-1098-4ef2-8d31-bc1bc7e2b667"
      },
      "execution_count": 13,
      "outputs": [
        {
          "output_type": "stream",
          "name": "stdout",
          "text": [
            "Model parameters: 8,214,651\n",
            "Training configuration set!\n"
          ]
        }
      ]
    },
    {
      "cell_type": "code",
      "source": [
        "# ============================================================================\n",
        "# CELL 14: Training Functions\n",
        "# ============================================================================\n",
        "def train_epoch(model, dataloader, criterion, optimizer, device):\n",
        "    model.train()\n",
        "    total_loss = 0\n",
        "\n",
        "    for src, tgt in tqdm(dataloader, desc=\"Training\"):\n",
        "        src, tgt = src.to(device), tgt.to(device)\n",
        "\n",
        "        optimizer.zero_grad()\n",
        "        output = model(src, tgt[:, :-1])\n",
        "\n",
        "        loss = criterion(output.reshape(-1, vocab.n_words), tgt[:, 1:].reshape(-1))\n",
        "        loss.backward()\n",
        "\n",
        "        torch.nn.utils.clip_grad_norm_(model.parameters(), 1.0)\n",
        "        optimizer.step()\n",
        "\n",
        "        total_loss += loss.item()\n",
        "\n",
        "    return total_loss / len(dataloader)\n",
        "\n",
        "def evaluate(model, dataloader, criterion, device):\n",
        "    model.eval()\n",
        "    total_loss = 0\n",
        "\n",
        "    with torch.no_grad():\n",
        "        for src, tgt in tqdm(dataloader, desc=\"Evaluating\"):\n",
        "            src, tgt = src.to(device), tgt.to(device)\n",
        "\n",
        "            output = model(src, tgt[:, :-1])\n",
        "            loss = criterion(output.reshape(-1, vocab.n_words), tgt[:, 1:].reshape(-1))\n",
        "\n",
        "            total_loss += loss.item()\n",
        "\n",
        "    return total_loss / len(dataloader)\n",
        "\n",
        "print(\"Training functions defined!\")\n",
        "\n"
      ],
      "metadata": {
        "colab": {
          "base_uri": "https://localhost:8080/"
        },
        "id": "1AOuqd_KTDTk",
        "outputId": "3ac88c45-74c2-41db-f2e8-b74ad4edddfd"
      },
      "execution_count": 14,
      "outputs": [
        {
          "output_type": "stream",
          "name": "stdout",
          "text": [
            "Training functions defined!\n"
          ]
        }
      ]
    },
    {
      "cell_type": "code",
      "source": [
        "# ============================================================================\n",
        "# CELL 15: Train the Model and Save Best Weights\n",
        "# ============================================================================\n",
        "best_val_loss = float('inf')\n",
        "train_losses = []\n",
        "val_losses = []\n",
        "\n",
        "for epoch in range(NUM_EPOCHS):\n",
        "    print(f\"\\n{'='*60}\")\n",
        "    print(f\"Epoch {epoch + 1}/{NUM_EPOCHS}\")\n",
        "    print(f\"{'='*60}\")\n",
        "\n",
        "    train_loss = train_epoch(model, train_loader, criterion, optimizer, device)\n",
        "    val_loss = evaluate(model, val_loader, criterion, device)\n",
        "\n",
        "    train_losses.append(train_loss)\n",
        "    val_losses.append(val_loss)\n",
        "\n",
        "    print(f\"Train Loss: {train_loss:.4f} | Val Loss: {val_loss:.4f}\")\n",
        "    print(f\"Train Perplexity: {math.exp(train_loss):.4f} | Val Perplexity: {math.exp(val_loss):.4f}\")\n",
        "\n",
        "    # Save best model\n",
        "    if val_loss < best_val_loss:\n",
        "        best_val_loss = val_loss\n",
        "        torch.save({\n",
        "            'epoch': epoch,\n",
        "            'model_state_dict': model.state_dict(),\n",
        "            'optimizer_state_dict': optimizer.state_dict(),\n",
        "            'train_loss': train_loss,\n",
        "            'val_loss': val_loss,\n",
        "            'vocab': vocab,\n",
        "            'hyperparameters': {\n",
        "                'd_model': D_MODEL,\n",
        "                'n_heads': N_HEADS,\n",
        "                'n_encoder_layers': N_ENCODER_LAYERS,\n",
        "                'n_decoder_layers': N_DECODER_LAYERS,\n",
        "                'dropout': DROPOUT,\n",
        "                'max_len': MAX_LEN\n",
        "            }\n",
        "        }, 'best_urdu_transformer.pt')\n",
        "        print(f\"✓ Best model saved! (Val Loss: {val_loss:.4f})\")\n",
        "\n",
        "print(\"\\n\" + \"=\"*60)\n",
        "print(\"Training completed!\")\n",
        "print(f\"Best validation loss: {best_val_loss:.4f}\")\n",
        "print(f\"Best validation perplexity: {math.exp(best_val_loss):.4f}\")\n",
        "print(\"Model saved as 'best_urdu_transformer.pt'\")\n",
        "\n"
      ],
      "metadata": {
        "colab": {
          "base_uri": "https://localhost:8080/"
        },
        "id": "XQvYLYdITF18",
        "outputId": "e87f5f8e-6bbf-441f-801a-280ae1140488"
      },
      "execution_count": 15,
      "outputs": [
        {
          "output_type": "stream",
          "name": "stdout",
          "text": [
            "\n",
            "============================================================\n",
            "Epoch 1/20\n",
            "============================================================\n"
          ]
        },
        {
          "output_type": "stream",
          "name": "stderr",
          "text": [
            "Training: 100%|██████████| 500/500 [00:15<00:00, 32.67it/s]\n",
            "Evaluating: 100%|██████████| 63/63 [00:00<00:00, 91.74it/s]\n"
          ]
        },
        {
          "output_type": "stream",
          "name": "stdout",
          "text": [
            "Train Loss: 6.1877 | Val Loss: 5.4319\n",
            "Train Perplexity: 486.7082 | Val Perplexity: 228.5799\n",
            "✓ Best model saved! (Val Loss: 5.4319)\n",
            "\n",
            "============================================================\n",
            "Epoch 2/20\n",
            "============================================================\n"
          ]
        },
        {
          "output_type": "stream",
          "name": "stderr",
          "text": [
            "Training: 100%|██████████| 500/500 [00:14<00:00, 34.85it/s]\n",
            "Evaluating: 100%|██████████| 63/63 [00:00<00:00, 77.97it/s]\n"
          ]
        },
        {
          "output_type": "stream",
          "name": "stdout",
          "text": [
            "Train Loss: 5.2596 | Val Loss: 4.8614\n",
            "Train Perplexity: 192.4017 | Val Perplexity: 129.2037\n",
            "✓ Best model saved! (Val Loss: 4.8614)\n",
            "\n",
            "============================================================\n",
            "Epoch 3/20\n",
            "============================================================\n"
          ]
        },
        {
          "output_type": "stream",
          "name": "stderr",
          "text": [
            "Training: 100%|██████████| 500/500 [00:15<00:00, 32.75it/s]\n",
            "Evaluating: 100%|██████████| 63/63 [00:00<00:00, 101.51it/s]\n"
          ]
        },
        {
          "output_type": "stream",
          "name": "stdout",
          "text": [
            "Train Loss: 4.7119 | Val Loss: 4.3870\n",
            "Train Perplexity: 111.2586 | Val Perplexity: 80.3951\n",
            "✓ Best model saved! (Val Loss: 4.3870)\n",
            "\n",
            "============================================================\n",
            "Epoch 4/20\n",
            "============================================================\n"
          ]
        },
        {
          "output_type": "stream",
          "name": "stderr",
          "text": [
            "Training: 100%|██████████| 500/500 [00:14<00:00, 34.90it/s]\n",
            "Evaluating: 100%|██████████| 63/63 [00:00<00:00, 98.92it/s]\n"
          ]
        },
        {
          "output_type": "stream",
          "name": "stdout",
          "text": [
            "Train Loss: 4.2310 | Val Loss: 4.0264\n",
            "Train Perplexity: 68.7851 | Val Perplexity: 56.0610\n",
            "✓ Best model saved! (Val Loss: 4.0264)\n",
            "\n",
            "============================================================\n",
            "Epoch 5/20\n",
            "============================================================\n"
          ]
        },
        {
          "output_type": "stream",
          "name": "stderr",
          "text": [
            "Training: 100%|██████████| 500/500 [00:14<00:00, 34.95it/s]\n",
            "Evaluating: 100%|██████████| 63/63 [00:00<00:00, 96.58it/s]\n"
          ]
        },
        {
          "output_type": "stream",
          "name": "stdout",
          "text": [
            "Train Loss: 3.7992 | Val Loss: 3.6120\n",
            "Train Perplexity: 44.6675 | Val Perplexity: 37.0402\n",
            "✓ Best model saved! (Val Loss: 3.6120)\n",
            "\n",
            "============================================================\n",
            "Epoch 6/20\n",
            "============================================================\n"
          ]
        },
        {
          "output_type": "stream",
          "name": "stderr",
          "text": [
            "Training: 100%|██████████| 500/500 [00:14<00:00, 34.78it/s]\n",
            "Evaluating: 100%|██████████| 63/63 [00:00<00:00, 78.45it/s]\n"
          ]
        },
        {
          "output_type": "stream",
          "name": "stdout",
          "text": [
            "Train Loss: 3.3820 | Val Loss: 3.2599\n",
            "Train Perplexity: 29.4284 | Val Perplexity: 26.0482\n",
            "✓ Best model saved! (Val Loss: 3.2599)\n",
            "\n",
            "============================================================\n",
            "Epoch 7/20\n",
            "============================================================\n"
          ]
        },
        {
          "output_type": "stream",
          "name": "stderr",
          "text": [
            "Training: 100%|██████████| 500/500 [00:14<00:00, 35.28it/s]\n",
            "Evaluating: 100%|██████████| 63/63 [00:00<00:00, 100.22it/s]\n"
          ]
        },
        {
          "output_type": "stream",
          "name": "stdout",
          "text": [
            "Train Loss: 2.9792 | Val Loss: 2.9420\n",
            "Train Perplexity: 19.6717 | Val Perplexity: 18.9531\n",
            "✓ Best model saved! (Val Loss: 2.9420)\n",
            "\n",
            "============================================================\n",
            "Epoch 8/20\n",
            "============================================================\n"
          ]
        },
        {
          "output_type": "stream",
          "name": "stderr",
          "text": [
            "Training: 100%|██████████| 500/500 [00:14<00:00, 35.28it/s]\n",
            "Evaluating: 100%|██████████| 63/63 [00:00<00:00, 101.53it/s]\n"
          ]
        },
        {
          "output_type": "stream",
          "name": "stdout",
          "text": [
            "Train Loss: 2.6336 | Val Loss: 2.6820\n",
            "Train Perplexity: 13.9244 | Val Perplexity: 14.6139\n",
            "✓ Best model saved! (Val Loss: 2.6820)\n",
            "\n",
            "============================================================\n",
            "Epoch 9/20\n",
            "============================================================\n"
          ]
        },
        {
          "output_type": "stream",
          "name": "stderr",
          "text": [
            "Training: 100%|██████████| 500/500 [00:14<00:00, 35.09it/s]\n",
            "Evaluating: 100%|██████████| 63/63 [00:00<00:00, 101.66it/s]\n"
          ]
        },
        {
          "output_type": "stream",
          "name": "stdout",
          "text": [
            "Train Loss: 2.3157 | Val Loss: 2.4598\n",
            "Train Perplexity: 10.1317 | Val Perplexity: 11.7028\n",
            "✓ Best model saved! (Val Loss: 2.4598)\n",
            "\n",
            "============================================================\n",
            "Epoch 10/20\n",
            "============================================================\n"
          ]
        },
        {
          "output_type": "stream",
          "name": "stderr",
          "text": [
            "Training: 100%|██████████| 500/500 [00:14<00:00, 34.63it/s]\n",
            "Evaluating: 100%|██████████| 63/63 [00:00<00:00, 74.82it/s]\n"
          ]
        },
        {
          "output_type": "stream",
          "name": "stdout",
          "text": [
            "Train Loss: 2.0420 | Val Loss: 2.2688\n",
            "Train Perplexity: 7.7056 | Val Perplexity: 9.6678\n",
            "✓ Best model saved! (Val Loss: 2.2688)\n",
            "\n",
            "============================================================\n",
            "Epoch 11/20\n",
            "============================================================\n"
          ]
        },
        {
          "output_type": "stream",
          "name": "stderr",
          "text": [
            "Training: 100%|██████████| 500/500 [00:15<00:00, 32.07it/s]\n",
            "Evaluating: 100%|██████████| 63/63 [00:00<00:00, 101.42it/s]\n"
          ]
        },
        {
          "output_type": "stream",
          "name": "stdout",
          "text": [
            "Train Loss: 1.8288 | Val Loss: 2.1165\n",
            "Train Perplexity: 6.2263 | Val Perplexity: 8.3017\n",
            "✓ Best model saved! (Val Loss: 2.1165)\n",
            "\n",
            "============================================================\n",
            "Epoch 12/20\n",
            "============================================================\n"
          ]
        },
        {
          "output_type": "stream",
          "name": "stderr",
          "text": [
            "Training: 100%|██████████| 500/500 [00:14<00:00, 34.80it/s]\n",
            "Evaluating: 100%|██████████| 63/63 [00:00<00:00, 97.74it/s]\n"
          ]
        },
        {
          "output_type": "stream",
          "name": "stdout",
          "text": [
            "Train Loss: 1.6403 | Val Loss: 1.9979\n",
            "Train Perplexity: 5.1565 | Val Perplexity: 7.3732\n",
            "✓ Best model saved! (Val Loss: 1.9979)\n",
            "\n",
            "============================================================\n",
            "Epoch 13/20\n",
            "============================================================\n"
          ]
        },
        {
          "output_type": "stream",
          "name": "stderr",
          "text": [
            "Training: 100%|██████████| 500/500 [00:14<00:00, 34.60it/s]\n",
            "Evaluating: 100%|██████████| 63/63 [00:00<00:00, 87.62it/s]\n"
          ]
        },
        {
          "output_type": "stream",
          "name": "stdout",
          "text": [
            "Train Loss: 1.4850 | Val Loss: 1.8964\n",
            "Train Perplexity: 4.4152 | Val Perplexity: 6.6616\n",
            "✓ Best model saved! (Val Loss: 1.8964)\n",
            "\n",
            "============================================================\n",
            "Epoch 14/20\n",
            "============================================================\n"
          ]
        },
        {
          "output_type": "stream",
          "name": "stderr",
          "text": [
            "Training: 100%|██████████| 500/500 [00:14<00:00, 33.43it/s]\n",
            "Evaluating: 100%|██████████| 63/63 [00:00<00:00, 99.93it/s] \n"
          ]
        },
        {
          "output_type": "stream",
          "name": "stdout",
          "text": [
            "Train Loss: 1.3549 | Val Loss: 1.8466\n",
            "Train Perplexity: 3.8765 | Val Perplexity: 6.3383\n",
            "✓ Best model saved! (Val Loss: 1.8466)\n",
            "\n",
            "============================================================\n",
            "Epoch 15/20\n",
            "============================================================\n"
          ]
        },
        {
          "output_type": "stream",
          "name": "stderr",
          "text": [
            "Training: 100%|██████████| 500/500 [00:14<00:00, 34.44it/s]\n",
            "Evaluating: 100%|██████████| 63/63 [00:00<00:00, 99.38it/s] \n"
          ]
        },
        {
          "output_type": "stream",
          "name": "stdout",
          "text": [
            "Train Loss: 1.2496 | Val Loss: 1.7970\n",
            "Train Perplexity: 3.4889 | Val Perplexity: 6.0318\n",
            "✓ Best model saved! (Val Loss: 1.7970)\n",
            "\n",
            "============================================================\n",
            "Epoch 16/20\n",
            "============================================================\n"
          ]
        },
        {
          "output_type": "stream",
          "name": "stderr",
          "text": [
            "Training: 100%|██████████| 500/500 [00:14<00:00, 34.86it/s]\n",
            "Evaluating: 100%|██████████| 63/63 [00:00<00:00, 99.63it/s]\n"
          ]
        },
        {
          "output_type": "stream",
          "name": "stdout",
          "text": [
            "Train Loss: 1.1570 | Val Loss: 1.7470\n",
            "Train Perplexity: 3.1804 | Val Perplexity: 5.7374\n",
            "✓ Best model saved! (Val Loss: 1.7470)\n",
            "\n",
            "============================================================\n",
            "Epoch 17/20\n",
            "============================================================\n"
          ]
        },
        {
          "output_type": "stream",
          "name": "stderr",
          "text": [
            "Training: 100%|██████████| 500/500 [00:14<00:00, 34.68it/s]\n",
            "Evaluating: 100%|██████████| 63/63 [00:00<00:00, 79.04it/s]\n"
          ]
        },
        {
          "output_type": "stream",
          "name": "stdout",
          "text": [
            "Train Loss: 1.0806 | Val Loss: 1.7298\n",
            "Train Perplexity: 2.9464 | Val Perplexity: 5.6396\n",
            "✓ Best model saved! (Val Loss: 1.7298)\n",
            "\n",
            "============================================================\n",
            "Epoch 18/20\n",
            "============================================================\n"
          ]
        },
        {
          "output_type": "stream",
          "name": "stderr",
          "text": [
            "Training: 100%|██████████| 500/500 [00:14<00:00, 34.65it/s]\n",
            "Evaluating: 100%|██████████| 63/63 [00:00<00:00, 101.30it/s]\n"
          ]
        },
        {
          "output_type": "stream",
          "name": "stdout",
          "text": [
            "Train Loss: 1.0166 | Val Loss: 1.7011\n",
            "Train Perplexity: 2.7638 | Val Perplexity: 5.4802\n",
            "✓ Best model saved! (Val Loss: 1.7011)\n",
            "\n",
            "============================================================\n",
            "Epoch 19/20\n",
            "============================================================\n"
          ]
        },
        {
          "output_type": "stream",
          "name": "stderr",
          "text": [
            "Training: 100%|██████████| 500/500 [00:14<00:00, 34.86it/s]\n",
            "Evaluating: 100%|██████████| 63/63 [00:00<00:00, 98.04it/s]\n"
          ]
        },
        {
          "output_type": "stream",
          "name": "stdout",
          "text": [
            "Train Loss: 0.9603 | Val Loss: 1.6930\n",
            "Train Perplexity: 2.6125 | Val Perplexity: 5.4360\n",
            "✓ Best model saved! (Val Loss: 1.6930)\n",
            "\n",
            "============================================================\n",
            "Epoch 20/20\n",
            "============================================================\n"
          ]
        },
        {
          "output_type": "stream",
          "name": "stderr",
          "text": [
            "Training: 100%|██████████| 500/500 [00:14<00:00, 35.05it/s]\n",
            "Evaluating: 100%|██████████| 63/63 [00:00<00:00, 103.25it/s]\n"
          ]
        },
        {
          "output_type": "stream",
          "name": "stdout",
          "text": [
            "Train Loss: 0.9083 | Val Loss: 1.6904\n",
            "Train Perplexity: 2.4802 | Val Perplexity: 5.4214\n",
            "✓ Best model saved! (Val Loss: 1.6904)\n",
            "\n",
            "============================================================\n",
            "Training completed!\n",
            "Best validation loss: 1.6904\n",
            "Best validation perplexity: 5.4214\n",
            "Model saved as 'best_urdu_transformer.pt'\n"
          ]
        }
      ]
    },
    {
      "cell_type": "code",
      "source": [
        "# ============================================================================\n",
        "# CELL 16: Plot Training History\n",
        "# ============================================================================\n",
        "import matplotlib.pyplot as plt\n",
        "\n",
        "plt.figure(figsize=(12, 5))\n",
        "\n",
        "plt.subplot(1, 2, 1)\n",
        "plt.plot(train_losses, label='Train Loss', marker='o')\n",
        "plt.plot(val_losses, label='Validation Loss', marker='s')\n",
        "plt.xlabel('Epoch')\n",
        "plt.ylabel('Loss')\n",
        "plt.title('Training and Validation Loss')\n",
        "plt.legend()\n",
        "plt.grid(True)\n",
        "\n",
        "plt.subplot(1, 2, 2)\n",
        "train_perplexity = [math.exp(loss) for loss in train_losses]\n",
        "val_perplexity = [math.exp(loss) for loss in val_losses]\n",
        "plt.plot(train_perplexity, label='Train Perplexity', marker='o')\n",
        "plt.plot(val_perplexity, label='Validation Perplexity', marker='s')\n",
        "plt.xlabel('Epoch')\n",
        "plt.ylabel('Perplexity')\n",
        "plt.title('Training and Validation Perplexity')\n",
        "plt.legend()\n",
        "plt.grid(True)\n",
        "\n",
        "plt.tight_layout()\n",
        "plt.savefig('training_history.png', dpi=300, bbox_inches='tight')\n",
        "plt.show()\n",
        "\n",
        "print(\"Training history plots saved!\")"
      ],
      "metadata": {
        "colab": {
          "base_uri": "https://localhost:8080/",
          "height": 506
        },
        "id": "0DQusZiqTIBh",
        "outputId": "9b5b40cc-0e14-416a-ccbe-09f759808e42"
      },
      "execution_count": 16,
      "outputs": [
        {
          "output_type": "display_data",
          "data": {
            "text/plain": [
              "<Figure size 1200x500 with 2 Axes>"
            ],
            "image/png": "[encoded data removed]"
          },
          "metadata": {}
        },
        {
          "output_type": "stream",
          "name": "stdout",
          "text": [
            "Training history plots saved!\n"
          ]
        }
      ]
    }
  ]
}